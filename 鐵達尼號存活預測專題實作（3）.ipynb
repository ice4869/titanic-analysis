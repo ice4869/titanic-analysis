{
  "nbformat": 4,
  "nbformat_minor": 0,
  "metadata": {
    "colab": {
      "provenance": [],
      "authorship_tag": "ABX9TyPeyvRUZFlvY6EWHdxdYpsE",
      "include_colab_link": true
    },
    "kernelspec": {
      "name": "python3",
      "display_name": "Python 3"
    },
    "language_info": {
      "name": "python"
    }
  },
  "cells": [
    {
      "cell_type": "markdown",
      "metadata": {
        "id": "view-in-github",
        "colab_type": "text"
      },
      "source": [
        "<a href=\"https://colab.research.google.com/github/ice4869/titanic-analysis/blob/main/%E9%90%B5%E9%81%94%E5%B0%BC%E8%99%9F%E5%AD%98%E6%B4%BB%E9%A0%90%E6%B8%AC%E5%B0%88%E9%A1%8C%E5%AF%A6%E4%BD%9C%EF%BC%883%EF%BC%89.ipynb\" target=\"_parent\"><img src=\"https://colab.research.google.com/assets/colab-badge.svg\" alt=\"Open In Colab\"/></a>"
      ]
    },
    {
      "cell_type": "markdown",
      "source": [
        "鐵達尼號存活預測專題實作（3）"
      ],
      "metadata": {
        "id": "Pce36IcwNwwM"
      }
    },
    {
      "cell_type": "markdown",
      "source": [
        "1. 請問資料中有哪些「欄位」你覺得是多餘的，在分析過程中應該被排除的呢？為什麼？"
      ],
      "metadata": {
        "id": "wkUieb8NN4li"
      }
    },
    {
      "cell_type": "markdown",
      "source": [
        "在分析過程中，可能有些欄位是多餘的或對分析結果沒有太大影響的。以下是一些可能被排除的欄位：\n",
        "\n",
        "PassengerId：乘客ID，通常是用來標識乘客的唯一值，對生存與否沒有實際意義。\n",
        "\n",
        "Name：乘客姓名，通常也不具有直接的影響。\n",
        "\n",
        "Ticket：船票號碼，對於生存與否沒有太大的關聯。\n",
        "\n",
        "Cabin：客艙號碼，缺失值較多，而且與生存與否的關聯度較低。\n",
        "\n",
        "這些欄位可能在分析中不會提供有用的資訊，因此可以考慮在分析過程中將它們排除。\n",
        "\n"
      ],
      "metadata": {
        "id": "8296cy12N6nh"
      }
    },
    {
      "cell_type": "markdown",
      "source": [
        "2. 針對「有缺失值」的欄位，嘗試不同的處理策略（例如：常數、中位數、平均數填補）比較結果。"
      ],
      "metadata": {
        "id": "0lYcrbqOOzkJ"
      }
    },
    {
      "cell_type": "code",
      "source": [
        "import pandas as pd\n",
        "from sklearn.impute import SimpleImputer\n",
        "\n",
        "#讀取資料集\n",
        "df = pd.read_csv('https://raw.githubusercontent.com/dsindy/kaggle-titanic/master/data/train.csv')\n",
        "\n",
        "#選擇含有缺失值的欄位\n",
        "columns_with_missing = ['Age' , 'Cabin']\n",
        "\n",
        "#常數填補\n",
        "df_constant = df.copy()\n",
        "constant_imputer = SimpleImputer(strategy = 'constant' , fill_value = 'Missing')\n",
        "df_constant[columns_with_missing] = constant_imputer.fit_transform(df_constant[columns_with_missing])\n",
        "\n",
        "#最常出現的值填補\n",
        "df_most_frequent = df.copy()\n",
        "most_frequent_imputer = SimpleImputer(strategy = 'most_frequent')\n",
        "df_most_frequent[columns_with_missing] = most_frequent_imputer.fit_transform(df_most_frequent[columns_with_missing])\n",
        "\n",
        "#檢查填補後的資料集\n",
        "print(df_constant.head())\n",
        "print(df_most_frequent.head())"
      ],
      "metadata": {
        "colab": {
          "base_uri": "https://localhost:8080/"
        },
        "id": "_nSJuTmaPROD",
        "outputId": "4c351ebc-8681-4614-ce32-a8cecb8ff7d0"
      },
      "execution_count": null,
      "outputs": [
        {
          "output_type": "stream",
          "name": "stdout",
          "text": [
            "   PassengerId  Survived  Pclass  \\\n",
            "0            1         0       3   \n",
            "1            2         1       1   \n",
            "2            3         1       3   \n",
            "3            4         1       1   \n",
            "4            5         0       3   \n",
            "\n",
            "                                                Name     Sex   Age  SibSp  \\\n",
            "0                            Braund, Mr. Owen Harris    male  22.0      1   \n",
            "1  Cumings, Mrs. John Bradley (Florence Briggs Th...  female  38.0      1   \n",
            "2                             Heikkinen, Miss. Laina  female  26.0      0   \n",
            "3       Futrelle, Mrs. Jacques Heath (Lily May Peel)  female  35.0      1   \n",
            "4                           Allen, Mr. William Henry    male  35.0      0   \n",
            "\n",
            "   Parch            Ticket     Fare    Cabin Embarked  \n",
            "0      0         A/5 21171   7.2500  Missing        S  \n",
            "1      0          PC 17599  71.2833      C85        C  \n",
            "2      0  STON/O2. 3101282   7.9250  Missing        S  \n",
            "3      0            113803  53.1000     C123        S  \n",
            "4      0            373450   8.0500  Missing        S  \n",
            "   PassengerId  Survived  Pclass  \\\n",
            "0            1         0       3   \n",
            "1            2         1       1   \n",
            "2            3         1       3   \n",
            "3            4         1       1   \n",
            "4            5         0       3   \n",
            "\n",
            "                                                Name     Sex   Age  SibSp  \\\n",
            "0                            Braund, Mr. Owen Harris    male  22.0      1   \n",
            "1  Cumings, Mrs. John Bradley (Florence Briggs Th...  female  38.0      1   \n",
            "2                             Heikkinen, Miss. Laina  female  26.0      0   \n",
            "3       Futrelle, Mrs. Jacques Heath (Lily May Peel)  female  35.0      1   \n",
            "4                           Allen, Mr. William Henry    male  35.0      0   \n",
            "\n",
            "   Parch            Ticket     Fare    Cabin Embarked  \n",
            "0      0         A/5 21171   7.2500  B96 B98        S  \n",
            "1      0          PC 17599  71.2833      C85        C  \n",
            "2      0  STON/O2. 3101282   7.9250  B96 B98        S  \n",
            "3      0            113803  53.1000     C123        S  \n",
            "4      0            373450   8.0500  B96 B98        S  \n"
          ]
        }
      ]
    },
    {
      "cell_type": "markdown",
      "source": [
        "3. 針對「非數值型」的欄位，嘗試不同的處理策略（例如：LabelEncoder 或 OneHotEncoder）比較結果。"
      ],
      "metadata": {
        "id": "5HIPkD47UqII"
      }
    },
    {
      "cell_type": "code",
      "source": [
        "import pandas as pd\n",
        "from sklearn.preprocessing import LabelEncoder , OneHotEncoder\n",
        "from sklearn.compose import ColumnTransformer\n",
        "\n",
        "#讀取資料集\n",
        "df = pd.read_csv('https://raw.githubusercontent.com/dsindy/kaggle-titanic/master/data/train.csv')\n",
        "\n",
        "#選擇非數值型的欄位\n",
        "non_numeric_columns = ['Sex' , 'Embarked']\n",
        "\n",
        "#使用 LabelEncoder 處理非數值行的欄位\n",
        "df_label_encoded = df.copy()\n",
        "label_encoder = LabelEncoder()\n",
        "for column in non_numeric_columns:\n",
        "  df_label_encoded[column] = label_encoder.fit_transform(df_label_encoded[column])\n",
        "\n",
        "#使用 OneHotEncoder 處理非數值型欄位\n",
        "df_one_hot_encoded = df.copy()\n",
        "one_hot_encoder = ColumnTransformer(transformers = [('encoder' , OneHotEncoder(drop = 'first' ) , non_numeric_columns) ] , remainder='passthrough')\n",
        "df_encoded = one_hot_encoder.fit_transform(df_one_hot_encoded)\n",
        "\n",
        "#將編碼後的資料轉換為DataFrame\n",
        "column_names = one_hot_encoder.named_transformers_['encoder'].get_feature_names_out(non_numeric_columns)\n",
        "df_one_hot_encoded = pd.DataFrame(df_encoded , columns = list(column_names)+ list(df_one_hot_encoded.columns[len(non_numeric_columns):]))\n",
        "\n",
        "\n",
        "#檢查處理後的資料集\n",
        "print(df_label_encoded.head())\n",
        "print(df_one_hot_encoded.head())"
      ],
      "metadata": {
        "colab": {
          "base_uri": "https://localhost:8080/"
        },
        "id": "Or3ywN2eVCtF",
        "outputId": "30c4c8b3-99c4-4efc-883f-46ab5da8cf1a"
      },
      "execution_count": null,
      "outputs": [
        {
          "output_type": "stream",
          "name": "stdout",
          "text": [
            "   PassengerId  Survived  Pclass  \\\n",
            "0            1         0       3   \n",
            "1            2         1       1   \n",
            "2            3         1       3   \n",
            "3            4         1       1   \n",
            "4            5         0       3   \n",
            "\n",
            "                                                Name  Sex   Age  SibSp  Parch  \\\n",
            "0                            Braund, Mr. Owen Harris    1  22.0      1      0   \n",
            "1  Cumings, Mrs. John Bradley (Florence Briggs Th...    0  38.0      1      0   \n",
            "2                             Heikkinen, Miss. Laina    0  26.0      0      0   \n",
            "3       Futrelle, Mrs. Jacques Heath (Lily May Peel)    0  35.0      1      0   \n",
            "4                           Allen, Mr. William Henry    1  35.0      0      0   \n",
            "\n",
            "             Ticket     Fare Cabin  Embarked  \n",
            "0         A/5 21171   7.2500   NaN         2  \n",
            "1          PC 17599  71.2833   C85         0  \n",
            "2  STON/O2. 3101282   7.9250   NaN         2  \n",
            "3            113803  53.1000  C123         2  \n",
            "4            373450   8.0500   NaN         2  \n",
            "  Sex_male Embarked_Q Embarked_S Embarked_nan Pclass Name Sex  \\\n",
            "0      1.0        0.0        1.0          0.0      1    0   3   \n",
            "1      0.0        0.0        0.0          0.0      2    1   1   \n",
            "2      0.0        0.0        1.0          0.0      3    1   3   \n",
            "3      0.0        0.0        1.0          0.0      4    1   1   \n",
            "4      1.0        0.0        1.0          0.0      5    0   3   \n",
            "\n",
            "                                                 Age SibSp Parch Ticket  \\\n",
            "0                            Braund, Mr. Owen Harris  22.0     1      0   \n",
            "1  Cumings, Mrs. John Bradley (Florence Briggs Th...  38.0     1      0   \n",
            "2                             Heikkinen, Miss. Laina  26.0     0      0   \n",
            "3       Futrelle, Mrs. Jacques Heath (Lily May Peel)  35.0     1      0   \n",
            "4                           Allen, Mr. William Henry  35.0     0      0   \n",
            "\n",
            "               Fare    Cabin Embarked  \n",
            "0         A/5 21171     7.25      NaN  \n",
            "1          PC 17599  71.2833      C85  \n",
            "2  STON/O2. 3101282    7.925      NaN  \n",
            "3            113803     53.1     C123  \n",
            "4            373450     8.05      NaN  \n"
          ]
        }
      ]
    },
    {
      "cell_type": "markdown",
      "source": [
        "4. 請你嘗試不同的特徵工程手法，產生可以幫助分析結果的新變數。"
      ],
      "metadata": {
        "id": "GGGBJx2rmFWE"
      }
    },
    {
      "cell_type": "code",
      "source": [
        "import pandas as pd\n",
        "import numpy as np\n",
        "\n",
        "#讀取資料集\n",
        "df = pd.read_csv('https://raw.githubusercontent.com/dsindy/kaggle-titanic/master/data/train.csv')\n",
        "\n",
        "data = pd.DataFrame(df)\n",
        "\n",
        "#資料前處理\n",
        "data.info()\n",
        "data.describe()\n",
        "data.isnull().sum()\n",
        "\n",
        "#將缺失值填補\n",
        "data['Age'].fillna(data['Age'].mean() , inplace = True)\n",
        "data['Embarked'].fillna(data['Embarked'].mode()[0] , inplace = True)\n",
        "data['Fare'].fillna(data['Fare'].mean() , inplace = True)\n",
        "data['Cabin'].fillna('None' , inplace = True)\n",
        "data.isnull().sum()\n",
        "\n",
        "#新增特徵\n",
        "data['Family_Size'] = data['SibSp'] + data['Parch'] + 1\n",
        "data['IsAlone'] = 0\n",
        "data.loc[data['Family_Size'] == 1 , 'IsAlone'] = 1\n",
        "data['Title'] = data['Name'].str.split(\", \", expand=True)[1].str.split(\".\", expand=True)[0]\n",
        "data['FareBin'] = pd.qcut(data['Fare'] , 4)\n",
        "data['AgeBin'] = pd.cut(data['Age'].astype(int) , 5)\n",
        "\n",
        "#刪除不需要的欄位\n",
        "data.drop(['Cabin'] , axis = 1 , inplace = True)\n",
        "data.drop(['PassengerId' , 'Name' , 'Ticket'] , axis = 1 , inplace = True)\n",
        "data.head()\n",
        "data.info()\n",
        "data.describe()\n",
        "data.isnull().sum()\n",
        "\n",
        "#將資料集命名為df_train，準備模型訓練\n",
        "df_train = data\n",
        "df_train.head()\n",
        "df_train.info()\n",
        "df_train.describe()\n",
        "df_train.isnull().sum()\n",
        "\n",
        "#定義特徵欄位和目標欄位\n",
        "#使用Label Encoding 進行特徵工程\n",
        "from sklearn.preprocessing import LabelEncoder\n",
        "#將特徵欄位進行編碼\n",
        "columns_to_encode = ['Survived' , 'Age' , 'Embarked' , 'Family_Size' , 'Title' , 'FareBin' , 'AgeBin' , 'Pclass' , 'Sex','SibSp' ,'Parch' , 'IsAlone' ]\n",
        "le = LabelEncoder()\n",
        "le.fit(columns_to_encode)\n",
        "#print(le.classes_)\n",
        "\n",
        "#對需要編碼的特徵欄位逐個進行 LabelEncoder 編碼\n",
        "for col in columns_to_encode[1:]:\n",
        "  le = LabelEncoder()\n",
        "  df_train[col] = le.fit_transform(df_train[col])\n",
        "\n",
        "#檢查結果\n",
        "#print(df_train[columns_to_encode])\n",
        "\n",
        "df_train.head()\n",
        "#定義特徵欄位和目標欄位\n",
        "columns_X = list(df_train.columns)\n",
        "columns_X.remove('Survived')\n",
        "columns_y = ['Survived']\n",
        "train_X = df_train[columns_X]\n",
        "train_y = df_train[columns_y]\n",
        "#使用Logistic 迴歸模型進行交叉驗證\n",
        "from sklearn.linear_model import LogisticRegression\n",
        "from sklearn.model_selection import cross_val_score\n",
        "\n",
        "log = LogisticRegression(random_state=0, max_iter=3000)\n",
        "scores = cross_val_score(log, train_X, train_y.values.ravel(),cv=5,scoring='accuracy')\n",
        "\n",
        "print(scores)"
      ],
      "metadata": {
        "colab": {
          "base_uri": "https://localhost:8080/"
        },
        "id": "UvIJwvH2mG3r",
        "outputId": "2e989f47-e0db-40f9-f81b-3cf6ac910eda"
      },
      "execution_count": 15,
      "outputs": [
        {
          "output_type": "stream",
          "name": "stdout",
          "text": [
            "<class 'pandas.core.frame.DataFrame'>\n",
            "RangeIndex: 891 entries, 0 to 890\n",
            "Data columns (total 12 columns):\n",
            " #   Column       Non-Null Count  Dtype  \n",
            "---  ------       --------------  -----  \n",
            " 0   PassengerId  891 non-null    int64  \n",
            " 1   Survived     891 non-null    int64  \n",
            " 2   Pclass       891 non-null    int64  \n",
            " 3   Name         891 non-null    object \n",
            " 4   Sex          891 non-null    object \n",
            " 5   Age          714 non-null    float64\n",
            " 6   SibSp        891 non-null    int64  \n",
            " 7   Parch        891 non-null    int64  \n",
            " 8   Ticket       891 non-null    object \n",
            " 9   Fare         891 non-null    float64\n",
            " 10  Cabin        204 non-null    object \n",
            " 11  Embarked     889 non-null    object \n",
            "dtypes: float64(2), int64(5), object(5)\n",
            "memory usage: 83.7+ KB\n",
            "<class 'pandas.core.frame.DataFrame'>\n",
            "RangeIndex: 891 entries, 0 to 890\n",
            "Data columns (total 13 columns):\n",
            " #   Column       Non-Null Count  Dtype   \n",
            "---  ------       --------------  -----   \n",
            " 0   Survived     891 non-null    int64   \n",
            " 1   Pclass       891 non-null    int64   \n",
            " 2   Sex          891 non-null    object  \n",
            " 3   Age          891 non-null    float64 \n",
            " 4   SibSp        891 non-null    int64   \n",
            " 5   Parch        891 non-null    int64   \n",
            " 6   Fare         891 non-null    float64 \n",
            " 7   Embarked     891 non-null    object  \n",
            " 8   Family_Size  891 non-null    int64   \n",
            " 9   IsAlone      891 non-null    int64   \n",
            " 10  Title        891 non-null    object  \n",
            " 11  FareBin      891 non-null    category\n",
            " 12  AgeBin       891 non-null    category\n",
            "dtypes: category(2), float64(2), int64(6), object(3)\n",
            "memory usage: 78.9+ KB\n",
            "<class 'pandas.core.frame.DataFrame'>\n",
            "RangeIndex: 891 entries, 0 to 890\n",
            "Data columns (total 13 columns):\n",
            " #   Column       Non-Null Count  Dtype   \n",
            "---  ------       --------------  -----   \n",
            " 0   Survived     891 non-null    int64   \n",
            " 1   Pclass       891 non-null    int64   \n",
            " 2   Sex          891 non-null    object  \n",
            " 3   Age          891 non-null    float64 \n",
            " 4   SibSp        891 non-null    int64   \n",
            " 5   Parch        891 non-null    int64   \n",
            " 6   Fare         891 non-null    float64 \n",
            " 7   Embarked     891 non-null    object  \n",
            " 8   Family_Size  891 non-null    int64   \n",
            " 9   IsAlone      891 non-null    int64   \n",
            " 10  Title        891 non-null    object  \n",
            " 11  FareBin      891 non-null    category\n",
            " 12  AgeBin       891 non-null    category\n",
            "dtypes: category(2), float64(2), int64(6), object(3)\n",
            "memory usage: 78.9+ KB\n",
            "[0.7877095  0.78651685 0.78651685 0.79213483 0.82022472]\n"
          ]
        }
      ]
    }
  ]
}